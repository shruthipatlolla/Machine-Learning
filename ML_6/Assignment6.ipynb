{
 "cells": [
  {
   "cell_type": "markdown",
   "metadata": {},
   "source": [
    "# Assignment\n"
   ]
  },
  {
   "cell_type": "markdown",
   "metadata": {},
   "source": [
    "## About the dataset\n",
    "The data set you will be using is from the UCI Machine Learning DataSet repository.  \n",
    "http://mlr.cs.umass.edu/ml/datasets/Balance+Scale\n",
    "The data set came in two parts: The data and descriptions.  I added the feature names to the front of the data file to make it readable as a CSV file.  You can see all three files in the project directory.\n",
    "\n",
    "It is a Balance scale weight & distance database.  You have a left weight and distance and a right weight and distance.  There are three categories:\n",
    "* B is balanced\n",
    "* L is scale tips left\n",
    "* R is scale tips right\n",
    "\n",
    "There is a simple computation that you can do to determine the category based on the features:  Compute left weight*distance and right weight * distance.  If the left product is greater, then we have a tip left, equal is balanced, right greater is tip right.\n",
    "\n",
    "This data set exhaustively gives examples for all 625 posible combinations of weights of 1, 2, 3, 4, 5 with distances of 1, 2, 3, 4, 5.\n",
    "\n",
    "If generating new instances, we should restrict the weight and distance to be positive."
   ]
  },
  {
   "cell_type": "markdown",
   "metadata": {},
   "source": [
    "## Part 1 - Get the DataSet\n",
    "Read balance-scale.csv into a data frame and use head to look at it."
   ]
  },
  {
   "cell_type": "code",
   "execution_count": 1,
   "metadata": {
    "scrolled": false
   },
   "outputs": [
    {
     "name": "stdout",
     "output_type": "stream",
     "text": [
      "Index(['Class', 'Left-Weight', 'Left-Distance', 'Right-Weight',\n",
      "       'Right-Distance'],\n",
      "      dtype='object')\n"
     ]
    },
    {
     "data": {
      "text/html": [
       "<div>\n",
       "<style scoped>\n",
       "    .dataframe tbody tr th:only-of-type {\n",
       "        vertical-align: middle;\n",
       "    }\n",
       "\n",
       "    .dataframe tbody tr th {\n",
       "        vertical-align: top;\n",
       "    }\n",
       "\n",
       "    .dataframe thead th {\n",
       "        text-align: right;\n",
       "    }\n",
       "</style>\n",
       "<table border=\"1\" class=\"dataframe\">\n",
       "  <thead>\n",
       "    <tr style=\"text-align: right;\">\n",
       "      <th></th>\n",
       "      <th>Class</th>\n",
       "      <th>Left-Weight</th>\n",
       "      <th>Left-Distance</th>\n",
       "      <th>Right-Weight</th>\n",
       "      <th>Right-Distance</th>\n",
       "    </tr>\n",
       "  </thead>\n",
       "  <tbody>\n",
       "    <tr>\n",
       "      <th>0</th>\n",
       "      <td>B</td>\n",
       "      <td>1</td>\n",
       "      <td>1</td>\n",
       "      <td>1</td>\n",
       "      <td>1</td>\n",
       "    </tr>\n",
       "    <tr>\n",
       "      <th>1</th>\n",
       "      <td>R</td>\n",
       "      <td>1</td>\n",
       "      <td>1</td>\n",
       "      <td>1</td>\n",
       "      <td>2</td>\n",
       "    </tr>\n",
       "    <tr>\n",
       "      <th>2</th>\n",
       "      <td>R</td>\n",
       "      <td>1</td>\n",
       "      <td>1</td>\n",
       "      <td>1</td>\n",
       "      <td>3</td>\n",
       "    </tr>\n",
       "    <tr>\n",
       "      <th>3</th>\n",
       "      <td>R</td>\n",
       "      <td>1</td>\n",
       "      <td>1</td>\n",
       "      <td>1</td>\n",
       "      <td>4</td>\n",
       "    </tr>\n",
       "    <tr>\n",
       "      <th>4</th>\n",
       "      <td>R</td>\n",
       "      <td>1</td>\n",
       "      <td>1</td>\n",
       "      <td>1</td>\n",
       "      <td>5</td>\n",
       "    </tr>\n",
       "  </tbody>\n",
       "</table>\n",
       "</div>"
      ],
      "text/plain": [
       "  Class  Left-Weight       ...        Right-Weight  Right-Distance\n",
       "0     B            1       ...                   1               1\n",
       "1     R            1       ...                   1               2\n",
       "2     R            1       ...                   1               3\n",
       "3     R            1       ...                   1               4\n",
       "4     R            1       ...                   1               5\n",
       "\n",
       "[5 rows x 5 columns]"
      ]
     },
     "execution_count": 1,
     "metadata": {},
     "output_type": "execute_result"
    }
   ],
   "source": [
    "import pandas as pd\n",
    "data_frame = pd.read_csv(\"balance-scale.csv\")\n",
    "print(data_frame.keys())\n",
    "data_frame.head(n=5)"
   ]
  },
  {
   "cell_type": "markdown",
   "metadata": {},
   "source": [
    "## Part 2 - Add two new features Left-Product and Right-Product\n",
    "Compute Left-Weight times Left-Distance and add it as a feature (Left-Product). Do the same for the right.  Look at the data and verify."
   ]
  },
  {
   "cell_type": "code",
   "execution_count": 8,
   "metadata": {
    "scrolled": true
   },
   "outputs": [
    {
     "name": "stdout",
     "output_type": "stream",
     "text": [
      "    Class  Left-Weight      ...        Left-Product  Right-Product\n",
      "0       B            1      ...                   1              1\n",
      "1       R            1      ...                   1              2\n",
      "2       R            1      ...                   1              3\n",
      "3       R            1      ...                   1              4\n",
      "4       R            1      ...                   1              5\n",
      "5       R            1      ...                   1              2\n",
      "6       R            1      ...                   1              4\n",
      "7       R            1      ...                   1              6\n",
      "8       R            1      ...                   1              8\n",
      "9       R            1      ...                   1             10\n",
      "10      R            1      ...                   1              3\n",
      "11      R            1      ...                   1              6\n",
      "12      R            1      ...                   1              9\n",
      "13      R            1      ...                   1             12\n",
      "14      R            1      ...                   1             15\n",
      "15      R            1      ...                   1              4\n",
      "16      R            1      ...                   1              8\n",
      "17      R            1      ...                   1             12\n",
      "18      R            1      ...                   1             16\n",
      "19      R            1      ...                   1             20\n",
      "20      R            1      ...                   1              5\n",
      "21      R            1      ...                   1             10\n",
      "22      R            1      ...                   1             15\n",
      "23      R            1      ...                   1             20\n",
      "24      R            1      ...                   1             25\n",
      "25      L            1      ...                   2              1\n",
      "26      B            1      ...                   2              2\n",
      "27      R            1      ...                   2              3\n",
      "28      R            1      ...                   2              4\n",
      "29      R            1      ...                   2              5\n",
      "..    ...          ...      ...                 ...            ...\n",
      "595     L            5      ...                  20              5\n",
      "596     L            5      ...                  20             10\n",
      "597     L            5      ...                  20             15\n",
      "598     B            5      ...                  20             20\n",
      "599     R            5      ...                  20             25\n",
      "600     L            5      ...                  25              1\n",
      "601     L            5      ...                  25              2\n",
      "602     L            5      ...                  25              3\n",
      "603     L            5      ...                  25              4\n",
      "604     L            5      ...                  25              5\n",
      "605     L            5      ...                  25              2\n",
      "606     L            5      ...                  25              4\n",
      "607     L            5      ...                  25              6\n",
      "608     L            5      ...                  25              8\n",
      "609     L            5      ...                  25             10\n",
      "610     L            5      ...                  25              3\n",
      "611     L            5      ...                  25              6\n",
      "612     L            5      ...                  25              9\n",
      "613     L            5      ...                  25             12\n",
      "614     L            5      ...                  25             15\n",
      "615     L            5      ...                  25              4\n",
      "616     L            5      ...                  25              8\n",
      "617     L            5      ...                  25             12\n",
      "618     L            5      ...                  25             16\n",
      "619     L            5      ...                  25             20\n",
      "620     L            5      ...                  25              5\n",
      "621     L            5      ...                  25             10\n",
      "622     L            5      ...                  25             15\n",
      "623     L            5      ...                  25             20\n",
      "624     B            5      ...                  25             25\n",
      "\n",
      "[625 rows x 7 columns]\n"
     ]
    }
   ],
   "source": [
    "data_frame[\"Left-Product\"] = data_frame[\"Left-Weight\"]*data_frame[\"Left-Distance\"]\n",
    "data_frame[\"Right-Product\"] = data_frame[\"Right-Weight\"]*data_frame[\"Right-Distance\"]\n",
    "print(data_frame)"
   ]
  },
  {
   "cell_type": "markdown",
   "metadata": {},
   "source": [
    "## Part 3 - Partition and Plot\n",
    "Partition the data frame by class and then do a scatter plot of the Left-Product vs. the Right-Product with each of the classes in a different color.  Label the axis and create a legend."
   ]
  },
  {
   "cell_type": "code",
   "execution_count": 38,
   "metadata": {},
   "outputs": [
    {
     "data": {
      "image/png": "[encoded data removed]",
      "text/plain": [
       "<Figure size 432x288 with 1 Axes>"
      ]
     },
     "metadata": {},
     "output_type": "display_data"
    }
   ],
   "source": [
    "import numpy as np\n",
    "b_left_produt = np.ma.masked_where(data_frame['Class'] != 'B', data_frame['Left-Product'])\n",
    "r_left_produt = np.ma.masked_where(data_frame['Class'] != 'R', data_frame['Left-Product'])\n",
    "l_left_produt = np.ma.masked_where(data_frame['Class'] != 'L', data_frame['Left-Product'])\n",
    "\n",
    "# do a scatter plot\n",
    "import matplotlib.pyplot as plt\n",
    "plt.scatter(l_left_produt, data_frame['Right-Product'], color=\"red\")\n",
    "plt.scatter(b_left_produt, data_frame['Right-Product'], color=\"green\")\n",
    "plt.scatter(r_left_produt, data_frame['Right-Product'], color=\"blue\")\n",
    "plt.xlabel(\"Left-Product\")\n",
    "plt.ylabel(\"Right-Product\")\n",
    "plt.legend([\"L\",\"B\",\"R\"])\n",
    "plt.show()"
   ]
  },
  {
   "cell_type": "markdown",
   "metadata": {},
   "source": [
    "## Part 4 - Building the decision tree\n",
    "Train a decision tree using the four features Left-Weight, Left-Distance, Right-Weight, and Right-Distance.  Use Class as the target.\n"
   ]
  },
  {
   "cell_type": "code",
   "execution_count": 21,
   "metadata": {
    "scrolled": true
   },
   "outputs": [
    {
     "data": {
      "text/plain": [
       "DecisionTreeClassifier(class_weight=None, criterion='gini', max_depth=None,\n",
       "            max_features=None, max_leaf_nodes=None,\n",
       "            min_impurity_decrease=0.0, min_impurity_split=None,\n",
       "            min_samples_leaf=1, min_samples_split=2,\n",
       "            min_weight_fraction_leaf=0.0, presort=False, random_state=None,\n",
       "            splitter='best')"
      ]
     },
     "execution_count": 21,
     "metadata": {},
     "output_type": "execute_result"
    }
   ],
   "source": [
    "from sklearn.tree import DecisionTreeClassifier\n",
    "X = data_frame[[\"Left-Weight\", \"Left-Distance\", \"Right-Weight\",\"Right-Distance\"]]\n",
    "y = data_frame['Class']\n",
    "\n",
    "tree_classifier = DecisionTreeClassifier()\n",
    "tree_classifier.fit(X,y)"
   ]
  },
  {
   "cell_type": "markdown",
   "metadata": {},
   "source": [
    "## Part 5 - Evaluation  (Confusion Matrix)\n",
    "Create and display the confusion matrix for the training set.  "
   ]
  },
  {
   "cell_type": "code",
   "execution_count": 23,
   "metadata": {
    "scrolled": true
   },
   "outputs": [
    {
     "name": "stdout",
     "output_type": "stream",
     "text": [
      "[[ 49   0   0]\n",
      " [  0 288   0]\n",
      " [  0   0 288]]\n"
     ]
    }
   ],
   "source": [
    "from sklearn.metrics import confusion_matrix\n",
    "y_predicted = tree_classifier.predict(X)\n",
    "matrix = confusion_matrix(y, y_predicted)\n",
    "print(matrix)"
   ]
  },
  {
   "cell_type": "markdown",
   "metadata": {},
   "source": [
    "### Your comments here:\n",
    "The classifier can able to predict 625 out 625 of them.\n",
    "So this looks really good, It may lead to be overfitting."
   ]
  },
  {
   "cell_type": "markdown",
   "metadata": {},
   "source": [
    "## Part 6 - Evaluatio (Other metrics)\n",
    "Compute Accuracy, Precision, Sensitivity and F1 scores from the training data\n"
   ]
  },
  {
   "cell_type": "code",
   "execution_count": 24,
   "metadata": {},
   "outputs": [
    {
     "name": "stdout",
     "output_type": "stream",
     "text": [
      "Accuracy is  1.0\n",
      "Precision is  1.0\n",
      "Sensitivity is  1.0\n",
      "F1 is  1.0\n"
     ]
    }
   ],
   "source": [
    "from sklearn.metrics import accuracy_score, precision_score, recall_score, f1_score\n",
    "print (\"Accuracy is \", accuracy_score(y, y_predicted))\n",
    "\n",
    "# We have to specify how to combine for the multiclassifications\n",
    "print (\"Precision is \", precision_score(y, y_predicted, average=\"weighted\"))\n",
    "print (\"Sensitivity is \", recall_score(y, y_predicted, average=\"weighted\"))\n",
    "print (\"F1 is \", f1_score(y, y_predicted, average=\"weighted\"))"
   ]
  },
  {
   "cell_type": "markdown",
   "metadata": {},
   "source": [
    "## Part 7 - Displaying the decision tree\n",
    "Export the decision tree to \"balance.dot\"."
   ]
  },
  {
   "cell_type": "code",
   "execution_count": 44,
   "metadata": {
    "scrolled": true
   },
   "outputs": [
    {
     "name": "stdout",
     "output_type": "stream",
     "text": [
      "99\n",
      "[[  7.  46. 145.]] [[ 7. 14.  0.]]\n"
     ]
    }
   ],
   "source": [
    "from sklearn.tree import export_graphviz\n",
    "\n",
    "export_graphviz(tree_classifier, out_file=\"balance.dot\")"
   ]
  },
  {
   "cell_type": "markdown",
   "metadata": {},
   "source": [
    "### Look at the Dot file and answer the following questions:\n",
    "1. How many nodes are in the tree? - 321\n",
    "1. What is the first split? - [49,288,288]\n",
    "1. How many leaf nodes are in the tree?  (They will have a lable that just gives a GINI impurity value.) - 166\n",
    "1. What would you suggest to prevent overfitting? - Add more data to training data set "
   ]
  },
  {
   "cell_type": "markdown",
   "metadata": {},
   "source": [
    "### Bonus - Create a .eps or .png file.\n",
    "\n",
    "To install graphviz, check out https://www.graphviz.org\n",
    "You will probably need to compile and install graphviz, though there may be an executable version you can download.  \n",
    "\n",
    "Once you have the dot file, you can render by command line:\n",
    "\n",
    "```dot -Tps input.dot > output.eps```\n",
    "\n",
    "```dot -Tpng input.dot > output.png```"
   ]
  },
  {
   "cell_type": "markdown",
   "metadata": {},
   "source": [
    "## Part 8 - Cross Validate the model.  \n",
    "Do a 5 fold validation and compute accuracy and the F1 score.  Make sure to use a different instance of a decision tree each time.\n"
   ]
  },
  {
   "cell_type": "code",
   "execution_count": 26,
   "metadata": {},
   "outputs": [
    {
     "name": "stdout",
     "output_type": "stream",
     "text": [
      "Cross validation accuracies are:  [0.752, 0.744, 0.824, 0.776, 0.816]\n",
      "Cross validation f1 scores  are:  [0.76851376146789, 0.7721224794622854, 0.8209514563106797, 0.7894983077528532, 0.8302624546226925]\n"
     ]
    }
   ],
   "source": [
    "from sklearn.model_selection import KFold\n",
    "validation_accuracy = []\n",
    "validation_f1 =[]\n",
    "fold_and_validate = KFold(n_splits=5, shuffle=True, random_state=145)\n",
    "for train_set_indices, validation_set_indices in fold_and_validate.split(X):\n",
    "    cv_train_set = X.iloc[train_set_indices]\n",
    "    cv_train_target = y.iloc[train_set_indices]\n",
    "    #print(cv_train_set)\n",
    "    \n",
    "    cv_decision_tree = DecisionTreeClassifier()\n",
    "    cv_decision_tree.fit(cv_train_set, cv_train_target)\n",
    "    \n",
    "    cv_xvalidation = X.iloc[validation_set_indices]\n",
    "    cv_y_true = y.iloc[validation_set_indices]\n",
    "    cv_y_predicted = cv_decision_tree.predict(cv_xvalidation)\n",
    "    \n",
    "    cv_accuracy_score = accuracy_score(cv_y_true, cv_y_predicted)\n",
    "    cv_f1_score = f1_score(cv_y_true, cv_y_predicted,  average=\"weighted\")\n",
    "    validation_accuracy.append(cv_accuracy_score)\n",
    "    validation_f1.append(cv_f1_score)\n",
    "    \n",
    "print(\"Cross validation accuracies are: \", validation_accuracy)\n",
    "print(\"Cross validation f1 scores  are: \", validation_f1)"
   ]
  },
  {
   "cell_type": "markdown",
   "metadata": {},
   "source": [
    "### Your comments here\n",
    "Here as per the results the samples are balanced across target classes hence the accuracy and the F1-score are almost equal."
   ]
  },
  {
   "cell_type": "markdown",
   "metadata": {},
   "source": [
    "## Part 9 - Generate Test Sets\n",
    "Since this data set has correct answers that are mathematically defined, we can generate test instances.  Create a test DataFrame with 500 instances called in_range_df with random floating point values that range from 0 to 5.\n",
    "\n",
    "Create a second test DataFrame with 500 instances call out_range_df with random floating point values that range from 0 to 10."
   ]
  },
  {
   "cell_type": "code",
   "execution_count": 28,
   "metadata": {},
   "outputs": [
    {
     "name": "stdout",
     "output_type": "stream",
     "text": [
      "[12.99822362 18.26113337 18.1560224  16.86923711  3.61012296 14.75987889\n",
      "  9.43757601 11.81468607 14.18517491  6.2954537 ]\n",
      "[ 1 14  7  7 15  1 10  6  8  6]\n",
      "['R', 'R', 'R', 'R', 'L', 'R', 'L', 'R', 'R', 'R']\n",
      "{'Class': ['R', 'R', 'R', 'R', 'L', 'R', 'L', 'R', 'R', 'R'], 'Left-Product': array([12.99822362, 18.26113337, 18.1560224 , 16.86923711,  3.61012296,\n",
      "       14.75987889,  9.43757601, 11.81468607, 14.18517491,  6.2954537 ]), 'Right-Product': array([ 1, 14,  7,  7, 15,  1, 10,  6,  8,  6])}\n",
      "  Class  Left-Product  Right-Product\n",
      "0     R     12.998224              1\n",
      "1     R     18.261133             14\n",
      "2     R     18.156022              7\n",
      "3     R     16.869237              7\n",
      "4     L      3.610123             15\n",
      "5     R     14.759879              1\n",
      "6     L      9.437576             10\n",
      "7     R     11.814686              6\n",
      "8     R     14.185175              8\n",
      "9     R      6.295454              6\n"
     ]
    }
   ],
   "source": [
    "# This is sample code that shows how to use Numpy's random number generator to create\n",
    "# features with random values and then combine those features into a dictionary\n",
    "# which we can then convert into a Data Frame.\n",
    "\n",
    "import numpy as np\n",
    "import pandas as pd\n",
    "\n",
    "\n",
    "# A function that computes balance\n",
    "def balance(left, right):\n",
    "    if left<right: return \"L\"\n",
    "    if left==right: return \"B\"\n",
    "    return \"R\"\n",
    "\n",
    "# Generate the same sequence each time\n",
    "np.random.seed(20)\n",
    "\n",
    "# create my data values\n",
    "feature1 = np.random.uniform(3, 20, 10)    # 10 values in the range from 3 to 20 (floats)\n",
    "feature2 = np.random.randint(1, 17, 10)    # 10 values in the range from 1 to 17 (ints)\n",
    "\n",
    "\n",
    "target = [balance(left,right) for (left,right) in zip(feature1, feature2)]\n",
    "print(feature1)\n",
    "print(feature2)\n",
    "print(target)\n",
    "\n",
    "# create a dictionary with each feature\n",
    "d = {}\n",
    "d[\"Class\"] = target\n",
    "d[\"Left-Product\"] = feature1\n",
    "d[\"Right-Product\"] = feature2\n",
    "\n",
    "print(d)\n",
    "\n",
    "# Create the data frame from the dictionary\n",
    "dataframe = pd.DataFrame(data=d)\n",
    "print(dataframe)\n",
    "\n",
    "\n",
    "\n"
   ]
  },
  {
   "cell_type": "code",
   "execution_count": 42,
   "metadata": {},
   "outputs": [
    {
     "name": "stdout",
     "output_type": "stream",
     "text": [
      "    Class  Left-Weight       ...        Right-Weight  Right-Distance\n",
      "0       R     3.267948       ...            0.785781               4\n",
      "1       L     0.575035       ...            3.233377               1\n",
      "2       R     4.751414       ...            4.854985               0\n",
      "3       R     2.410957       ...            0.229653               3\n",
      "4       L     4.362373       ...            3.922003               4\n",
      "5       L     1.061663       ...            4.376592               2\n",
      "6       R     0.203548       ...            0.351156               0\n",
      "7       L     1.985972       ...            4.362860               4\n",
      "8       L     1.165661       ...            0.024403               3\n",
      "9       R     4.208704       ...            3.942581               2\n",
      "10      L     1.035412       ...            1.436952               2\n",
      "11      R     3.712348       ...            0.067696               3\n",
      "12      L     1.960771       ...            3.553032               3\n",
      "13      L     0.911283       ...            3.708402               1\n",
      "14      R     3.717697       ...            3.839209               1\n",
      "15      L     0.347910       ...            0.510411               1\n",
      "16      R     4.426686       ...            0.652287               0\n",
      "17      R     4.763222       ...            1.424648               2\n",
      "18      R     4.655717       ...            0.952457               1\n",
      "19      L     2.077155       ...            3.166508               2\n",
      "20      L     0.144908       ...            3.446502               4\n",
      "21      R     4.910137       ...            1.665444               1\n",
      "22      R     1.698188       ...            0.782136               3\n",
      "23      R     3.533436       ...            3.643049               0\n",
      "24      R     1.809385       ...            1.861141               3\n",
      "25      L     0.175529       ...            0.788964               1\n",
      "26      R     4.275291       ...            0.484050               2\n",
      "27      R     3.286268       ...            0.586748               4\n",
      "28      R     3.828415       ...            2.212769               2\n",
      "29      R     2.770436       ...            2.381098               0\n",
      "..    ...          ...       ...                 ...             ...\n",
      "470     B     1.162347       ...            3.610223               0\n",
      "471     L     1.093000       ...            1.825421               3\n",
      "472     L     4.716845       ...            0.295035               1\n",
      "473     R     4.540531       ...            0.948893               3\n",
      "474     L     2.510847       ...            4.554464               3\n",
      "475     B     0.270710       ...            1.209083               0\n",
      "476     L     4.455055       ...            2.659011               1\n",
      "477     L     2.769703       ...            2.772267               2\n",
      "478     L     3.986986       ...            4.270835               3\n",
      "479     L     2.929692       ...            4.031654               3\n",
      "480     L     0.456727       ...            2.733918               3\n",
      "481     R     4.187566       ...            1.853562               3\n",
      "482     R     4.561594       ...            2.495285               0\n",
      "483     R     0.274770       ...            2.668987               0\n",
      "484     L     1.363175       ...            3.404225               2\n",
      "485     R     1.571916       ...            0.575626               0\n",
      "486     L     2.719076       ...            3.424841               2\n",
      "487     R     1.075702       ...            1.185909               0\n",
      "488     L     0.337811       ...            4.861530               1\n",
      "489     R     3.039469       ...            0.085378               2\n",
      "490     R     4.292243       ...            4.144512               1\n",
      "491     R     4.318904       ...            0.484976               4\n",
      "492     R     1.075956       ...            0.290912               1\n",
      "493     L     0.374518       ...            4.603157               3\n",
      "494     B     3.269894       ...            2.105279               0\n",
      "495     L     1.305974       ...            1.466188               3\n",
      "496     L     4.151509       ...            3.142947               4\n",
      "497     L     4.448340       ...            4.499973               3\n",
      "498     L     3.839995       ...            3.661496               3\n",
      "499     L     1.799160       ...            4.462748               1\n",
      "\n",
      "[500 rows x 5 columns]\n",
      "    Class  Left-Weight       ...        Right-Weight  Right-Distance\n",
      "0       R     6.730533       ...            2.177696               9\n",
      "1       L     9.047141       ...            3.311079               5\n",
      "2       R     4.465860       ...            6.541004               4\n",
      "3       R     7.475162       ...            0.497274               4\n",
      "4       R     4.751468       ...            2.564397               0\n",
      "5       R     5.551461       ...            8.073757               5\n",
      "6       L     6.295200       ...            9.243631               9\n",
      "7       L     2.689065       ...            2.870722               8\n",
      "8       L     7.248689       ...            6.485507               9\n",
      "9       L     5.295315       ...            6.801377               1\n",
      "10      B     2.980585       ...            3.882123               0\n",
      "11      R     4.217793       ...            9.552724               2\n",
      "12      L     1.985103       ...            8.491562               8\n",
      "13      R     3.140493       ...            1.298274               4\n",
      "14      R     8.056788       ...            1.198599               1\n",
      "15      L     0.436943       ...            2.575985               3\n",
      "16      L     5.978122       ...            9.771184               1\n",
      "17      L     8.159774       ...            6.739981               3\n",
      "18      R     8.915004       ...            5.837110               7\n",
      "19      L     5.017418       ...            2.437252               5\n",
      "20      L     2.543096       ...            5.565736               2\n",
      "21      R     5.369954       ...            3.973132               3\n",
      "22      R     2.278527       ...            3.914236               0\n",
      "23      L     8.649080       ...            5.837042               5\n",
      "24      R     6.737404       ...            2.201512               7\n",
      "25      L     9.082375       ...            7.711904               8\n",
      "26      R     7.381006       ...            4.910622               0\n",
      "27      L     8.967934       ...            7.539172               8\n",
      "28      L     0.930576       ...            4.596286               8\n",
      "29      L     8.732239       ...            9.644750               8\n",
      "..    ...          ...       ...                 ...             ...\n",
      "470     R     5.945373       ...            1.412721               1\n",
      "471     R     7.475208       ...            4.933660               9\n",
      "472     R     4.131452       ...            4.005255               0\n",
      "473     L     6.243751       ...            5.843463               4\n",
      "474     L     3.082151       ...            8.363248               9\n",
      "475     L     6.127730       ...            5.610898               9\n",
      "476     R     1.702329       ...            9.141847               0\n",
      "477     L     4.950258       ...            5.625428               7\n",
      "478     R     5.024252       ...            8.422143               0\n",
      "479     R     4.732427       ...            4.854789               3\n",
      "480     R     4.561666       ...            1.331929               2\n",
      "481     R     6.159665       ...            0.989326               5\n",
      "482     L     4.860666       ...            5.767101               2\n",
      "483     R     2.630651       ...            1.686846               1\n",
      "484     R     4.018610       ...            3.719846               0\n",
      "485     R     5.351382       ...            0.331115               9\n",
      "486     L     2.160886       ...            5.854039               4\n",
      "487     L     7.032435       ...            5.271795               3\n",
      "488     R     5.724152       ...            3.304378               5\n",
      "489     R     2.630399       ...            9.820244               1\n",
      "490     L     2.223374       ...            1.528440               4\n",
      "491     R     7.597127       ...            5.493497               4\n",
      "492     R     7.861909       ...            3.101750               6\n",
      "493     L     5.333310       ...            9.147197               6\n",
      "494     L     8.044571       ...            8.424101               9\n",
      "495     R     5.144845       ...            4.674373               0\n",
      "496     R     2.792903       ...            9.717507               1\n",
      "497     L     1.649802       ...            5.830840               7\n",
      "498     L     9.221122       ...            9.998259               9\n",
      "499     R     9.406043       ...            8.996375               2\n",
      "\n",
      "[500 rows x 5 columns]\n"
     ]
    }
   ],
   "source": [
    "# Your code here\n",
    "\n",
    "# Create a data frame in_range_df\n",
    "# with features Class, Left-Weight, Left-Distance, Right-Weight, and Right-Distance\n",
    "# The randomly generate floating point values from 0 to 5 for each feature. \n",
    "\n",
    "import numpy as np\n",
    "import pandas as pd\n",
    "\n",
    "\n",
    "# A function that computes balance\n",
    "def balance(left, right):\n",
    "    if left<right: return \"L\"\n",
    "    if left==right: return \"B\"\n",
    "    return \"R\"\n",
    "\n",
    "# Generate the same sequence each time\n",
    "np.random.seed(1000)\n",
    "\n",
    "# create my data values\n",
    "feature1 = np.random.uniform(0, 5, 500)    \n",
    "feature2 = np.random.randint(0, 5, 500)    \n",
    "feature3 = np.random.uniform(0, 5, 500)    \n",
    "feature4 = np.random.randint(0, 5, 500)    \n",
    "\n",
    "target = [balance(left,right) for (left,right) in zip(feature1*feature2, feature3*feature4)]\n",
    "\n",
    "# create a dictionary with each feature\n",
    "d = {}\n",
    "d[\"Class\"] = target\n",
    "d[\"Left-Weight\"] = feature1\n",
    "d[\"Left-Distance\"] = feature2\n",
    "d[\"Right-Weight\"] = feature3\n",
    "d[\"Right-Distance\"] = feature4\n",
    "\n",
    "\n",
    "# Create the data frame from the dictionary\n",
    "in_range_df = pd.DataFrame(data=d)\n",
    "print(in_range_df)\n",
    "\n",
    "\n",
    "# Create a data frame out_range_df\n",
    "# with features Class, Left-Weight, Left-Distance, Right-Weight, and Right-Distance\n",
    "# The randomly generate floating point values from 0 to 10 for each feature. \n",
    "\n",
    "feature1 = np.random.uniform(0, 10, 500)    \n",
    "feature2 = np.random.randint(0, 10, 500)    \n",
    "feature3 = np.random.uniform(0, 10, 500)    \n",
    "feature4 = np.random.randint(0, 10, 500)    \n",
    "\n",
    "target = [balance(left,right) for (left,right) in zip(feature1*feature2, feature3*feature4)]\n",
    "\n",
    "# create a dictionary with each feature\n",
    "d = {}\n",
    "d[\"Class\"] = target\n",
    "d[\"Left-Weight\"] = feature1\n",
    "d[\"Left-Distance\"] = feature2\n",
    "d[\"Right-Weight\"] = feature3\n",
    "d[\"Right-Distance\"] = feature4\n",
    "\n",
    "\n",
    "# Create the data frame from the dictionary\n",
    "out_range_df = pd.DataFrame(data=d)\n",
    "print(out_range_df)\n",
    "\n"
   ]
  },
  {
   "cell_type": "markdown",
   "metadata": {},
   "source": [
    "## Part 10 - Metrics for the Test Sets\n",
    "Give the confusion matrix, accuracy and F1 score for the two test sets using, (_Note:_ You will probably get a warning that the F1 score is ill-defined. Don't worry about it. Because we are generating floating point values, we will almost never generate a test instance that is balanced.)\n",
    "\n",
    "Use the model that you trained in part 4 to compute the predicted value for the Class."
   ]
  },
  {
   "cell_type": "code",
   "execution_count": 45,
   "metadata": {},
   "outputs": [
    {
     "name": "stdout",
     "output_type": "stream",
     "text": [
      "[[ 22   0   0]\n",
      " [  0 248   0]\n",
      " [  0   0 230]]\n",
      "Accuracy is  1.0\n",
      "F1 is  1.0\n",
      "[[  4   0   0]\n",
      " [  0 246   0]\n",
      " [  0   0 250]]\n",
      "Accuracy is  1.0\n",
      "F1 is  1.0\n"
     ]
    }
   ],
   "source": [
    "from sklearn.tree import DecisionTreeClassifier\n",
    "X = in_range_df[[\"Left-Weight\", \"Left-Distance\", \"Right-Weight\",\"Right-Distance\"]]\n",
    "y = in_range_df['Class']\n",
    "\n",
    "tree_classifier = DecisionTreeClassifier()\n",
    "tree_classifier.fit(X,y)\n",
    "from sklearn.metrics import confusion_matrix\n",
    "y_predicted = tree_classifier.predict(X)\n",
    "matrix = confusion_matrix(y, y_predicted)\n",
    "print(matrix)\n",
    "\n",
    "from sklearn.metrics import accuracy_score, precision_score, recall_score, f1_score\n",
    "print (\"Accuracy is \", accuracy_score(y, y_predicted))\n",
    "print (\"F1 is \", f1_score(y, y_predicted, average=\"weighted\"))\n",
    "\n",
    "\n",
    "X = out_range_df[[\"Left-Weight\", \"Left-Distance\", \"Right-Weight\",\"Right-Distance\"]]\n",
    "y = out_range_df['Class']\n",
    "\n",
    "tree_classifier = DecisionTreeClassifier()\n",
    "tree_classifier.fit(X,y)\n",
    "from sklearn.metrics import confusion_matrix\n",
    "y_predicted = tree_classifier.predict(X)\n",
    "matrix = confusion_matrix(y, y_predicted)\n",
    "print(matrix)\n",
    "print (\"Accuracy is \", accuracy_score(y, y_predicted))\n",
    "print (\"F1 is \", f1_score(y, y_predicted, average=\"weighted\"))\n"
   ]
  },
  {
   "cell_type": "markdown",
   "metadata": {},
   "source": [
    "## Bonus\n",
    "1. Plot the perfomance of the model as the maximum random value in your test set increases.\n",
    "1. Redefine the balance function so that it returns balanced if the difference between the products is less than 0.5 "
   ]
  },
  {
   "cell_type": "code",
   "execution_count": 58,
   "metadata": {},
   "outputs": [],
   "source": [
    "# 2. Redefine the balance function so that it returns balanced if the difference between the products is less than 0.5\n",
    "def balance(left, right):\n",
    "    if abs(left-right) < 0.5 : return \"B\"\n",
    "    if left<right: return \"L\"\n",
    "    return \"R\"\n"
   ]
  },
  {
   "cell_type": "code",
   "execution_count": null,
   "metadata": {},
   "outputs": [],
   "source": []
  },
  {
   "cell_type": "code",
   "execution_count": null,
   "metadata": {},
   "outputs": [],
   "source": []
  }
 ],
 "metadata": {
  "kernelspec": {
   "display_name": "Python 3 (Spyder)",
   "language": "python3",
   "name": "python3"
  },
  "language_info": {
   "codemirror_mode": {
    "name": "ipython",
    "version": 3
   },
   "file_extension": ".py",
   "mimetype": "text/x-python",
   "name": "python",
   "nbconvert_exporter": "python",
   "pygments_lexer": "ipython3",
   "version": "3.7.1"
  }
 },
 "nbformat": 4,
 "nbformat_minor": 2
}
