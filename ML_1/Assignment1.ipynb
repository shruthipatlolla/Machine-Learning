{
 "cells": [
  {
   "cell_type": "markdown",
   "metadata": {},
   "source": [
    "# Assignment 1 - Introduction to Python"
   ]
  },
  {
   "cell_type": "markdown",
   "metadata": {},
   "source": [
    "## Part 1\n",
    "* Assign x the integer value 3.\n",
    "* Compute and print x, x squared, and x cubed.\n",
    "* Determine if x divided by 3 and then multiplied by 3 is the same as x.\n",
    "* Redo the previous parts but assign x the floating point value 3.0\n",
    "\n",
    "_After the code section, create a MarkDown section and explain your results.  Do you expect the same results if you use // instead of /?_"
   ]
  },
  {
   "cell_type": "code",
   "execution_count": 17,
   "metadata": {},
   "outputs": [
    {
     "name": "stdout",
     "output_type": "stream",
     "text": [
      "3\n",
      "9\n",
      "27\n",
      "True\n",
      "3.0\n",
      "9.0\n",
      "27.0\n",
      "True\n"
     ]
    }
   ],
   "source": [
    "x = 3\n",
    "print(x)\n",
    "print(x*x)\n",
    "print(x**3)\n",
    "print((x/3)*3 == x)\n",
    "\n",
    "x = 3.0\n",
    "print(x)\n",
    "print(x*x)\n",
    "print(x**3)\n",
    "\n",
    "print((x/3)*3 == x)\n",
    "    "
   ]
  },
  {
   "cell_type": "markdown",
   "metadata": {},
   "source": [
    "When x is assigned to 3 it returned integers for the square and cube operations and when x assigned to a float value 3.0 it returned floats for the square and cube operations.\n",
    "\n",
    "Yes, in this case i got the same result for / and // but in general / will return the floating point division and // will return the floor division."
   ]
  },
  {
   "cell_type": "markdown",
   "metadata": {},
   "source": [
    "## Part 2\n",
    "* Ask the user for a string and assign it to `words`\n",
    "* Split `words` into a list\n",
    "* Iterate over the list and count the number of words of length less than 4, equal to 4, and greater than 4, and print the results.\n"
   ]
  },
  {
   "cell_type": "code",
   "execution_count": 5,
   "metadata": {},
   "outputs": [
    {
     "name": "stdout",
     "output_type": "stream",
     "text": [
      "Enter a string hey hi hello wassup\n",
      "2\n",
      "0\n",
      "2\n"
     ]
    }
   ],
   "source": [
    "words = input(\"Enter a string \")\n",
    "\n",
    "wordsList = words.split()\n",
    "\n",
    "lessValues = 0\n",
    "equalValues = 0\n",
    "greaterValues = 0\n",
    "\n",
    "for word in wordsList:\n",
    "    wordLength = len(word)\n",
    "    if wordLength < 4:\n",
    "        lessValues += 1\n",
    "    elif wordLength == 4:\n",
    "        equalValues += 1\n",
    "    elif wordLength > 4:\n",
    "        greaterValues += 1\n",
    "\n",
    "print(lessValues)\n",
    "print(equalValues)\n",
    "print(greaterValues)\n",
    "        \n",
    "        "
   ]
  },
  {
   "cell_type": "markdown",
   "metadata": {},
   "source": [
    "## Part 3\n",
    "* Use a for loop to compute the first 20 powers of two: 1, 2, 4, 8, ... "
   ]
  },
  {
   "cell_type": "code",
   "execution_count": 19,
   "metadata": {},
   "outputs": [
    {
     "name": "stdout",
     "output_type": "stream",
     "text": [
      "1,2,4,8,16,32,64,128,256,512,1024,2048,4096,8192,16384,32768,65536,131072,262144,524288,"
     ]
    }
   ],
   "source": [
    "for i in range(0,20):\n",
    "    print(2**i, end=\",\")"
   ]
  },
  {
   "cell_type": "markdown",
   "metadata": {},
   "source": [
    "## Part 4\n",
    "* Ask the user for a numeric value x.\n",
    "* Use a while loop to compute a sequence of values where the new value is based on the old value and uses the following formula:\n",
    "\n",
    "$x_{new} = x_{old} - (x_{old}^2-5)/(2x_{old})$\n",
    "\n",
    "Continue as long as the absolute value of the difference between the old and new values is greater than 0.000001.  _Use the abs() function._\n",
    "\n",
    "Note: This will compute the square root of 5 using the Newton-Raphson method.  It requires Calculus, but if you want to learn about finding   zeros of a function it is a good place to start. Also, it is relevant to techniques that we will use later in the course.\n",
    "    "
   ]
  },
  {
   "cell_type": "code",
   "execution_count": 50,
   "metadata": {},
   "outputs": [
    {
     "name": "stdout",
     "output_type": "stream",
     "text": [
      "Enter a numeric value 456789\n",
      "2.23606797749979\n"
     ]
    }
   ],
   "source": [
    "x = int(input(\"Enter a numeric value \"))\n",
    "\n",
    "newValue = x-(x*x-5)/(2*x)  \n",
    "\n",
    "while abs(x - newValue) > 0.000001:\n",
    "    x = newValue\n",
    "    newValue = x-(x*x-5)/(2*x)\n",
    "    \n",
    "print(newValue)"
   ]
  },
  {
   "cell_type": "markdown",
   "metadata": {},
   "source": [
    "## Bonus\n",
    "* Ask the user for an integer value and assign it to n.\n",
    "* Use a for loop to compute n factorial (the product of all the values from 1 to n)\n",
    "* Print the result.\n",
    "* Convert n factorial to a string and assign it to `text`\n",
    "* Use a for loop with `text` to compute and then print the number of zeros in the string.\n",
    "* Print the length of `text`.\n",
    "* Split `text` on the character '7' and print the length of the resulting list.\n",
    "\n",
    "* Try different values of n! and in a new Markdown section discuss how big a value of n you can use before you run into issues and explain what the issues are."
   ]
  },
  {
   "cell_type": "code",
   "execution_count": 8,
   "metadata": {},
   "outputs": [
    {
     "name": "stdout",
     "output_type": "stream",
     "text": [
      "Enter an integer value 1000000\n",
      "530559\n"
     ]
    }
   ],
   "source": [
    "n = int(input(\"Enter an integer value \"))\n",
    "factorialVal = 1\n",
    "for i in range(1,n+1):\n",
    "    factorialVal = factorialVal*i\n",
    "#print(factorialVal)\n",
    "text = str(factorialVal)\n",
    "#print(len(text))\n",
    "resultList = text.split(\"7\")\n",
    "print(len(resultList))"
   ]
  },
  {
   "cell_type": "markdown",
   "metadata": {},
   "source": [
    "I can see the results till 100000 , but it is not showing any results when i tried for 1000000 ,The issue is the process is running for a long time."
   ]
  }
 ],
 "metadata": {
  "kernelspec": {
   "display_name": "Python 3 (Spyder)",
   "language": "python3",
   "name": "python3"
  },
  "language_info": {
   "codemirror_mode": {
    "name": "ipython",
    "version": 3
   },
   "file_extension": ".py",
   "mimetype": "text/x-python",
   "name": "python",
   "nbconvert_exporter": "python",
   "pygments_lexer": "ipython3",
   "version": "3.7.1"
  }
 },
 "nbformat": 4,
 "nbformat_minor": 2
}
