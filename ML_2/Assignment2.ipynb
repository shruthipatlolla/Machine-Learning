{
 "cells": [
  {
   "cell_type": "markdown",
   "metadata": {},
   "source": [
    "## Assignment 2 - Structures and Functions"
   ]
  },
  {
   "cell_type": "markdown",
   "metadata": {},
   "source": [
    "## Part 1\n",
    "* Create a function `factorial` which takes a single argument n.  n! is the product of the integer values from 1 to n. \n",
    "(_Note: 0! is defined to be 1._)"
   ]
  },
  {
   "cell_type": "code",
   "execution_count": 83,
   "metadata": {},
   "outputs": [
    {
     "data": {
      "text/plain": [
       "2"
      ]
     },
     "execution_count": 83,
     "metadata": {},
     "output_type": "execute_result"
    }
   ],
   "source": [
    "def factorial(n):\n",
    "    return 1 if (n < 1) else n * factorial(n-1)\n",
    "\n",
    "factorial(2)\n",
    "        "
   ]
  },
  {
   "cell_type": "markdown",
   "metadata": {},
   "source": [
    "## Part 2\n",
    "* Create a function `get_pi` which takes a single argument n that defaults to 4 and is the number of terms to use in your computation. Use the first n terms of the sequence\n",
    "\n",
    "$pi = 4 [1 - 1/3 + 1/5 - 1/7 + 1/9 - 1/11 + ...]$\n",
    "\n",
    "* Create a function `e_to_the_x` with two arguments x and n (the number of terms to use.)  Compute the approximation to $e^x$ and compare with `e**x`. Use the sequence \n",
    "\n",
    "$e^x = 1 + x + x^2/2! + x^3/3! + x^4/4! + ...$\n"
   ]
  },
  {
   "cell_type": "code",
   "execution_count": 85,
   "metadata": {},
   "outputs": [
    {
     "name": "stdout",
     "output_type": "stream",
     "text": [
      "3.1412593202657186\n",
      "403.42670366343077\n",
      "403.4287934927351\n"
     ]
    }
   ],
   "source": [
    "import math\n",
    "\n",
    "def get_pi(n=4):\n",
    "    x = 1\n",
    "    for i in range(2,n+1):\n",
    "        if i%2 == 0:\n",
    "            x = x-(1/(2*i - 1))\n",
    "        else:\n",
    "            x = x+(1/(2*i - 1))\n",
    "    return 4*x\n",
    "\n",
    "print(get_pi())\n",
    "\n",
    "def e_to_the_x(x,n):\n",
    "    result = 0\n",
    "    for i in range(0,n):\n",
    "        result = result + (pow(x,i)/math.factorial(i))\n",
    "    return result\n",
    "\n",
    "print(e_to_the_x(5,20))\n",
    "print(math.exp(5))\n",
    "    "
   ]
  },
  {
   "cell_type": "markdown",
   "metadata": {},
   "source": [
    "# Part 3\n",
    "* Implement Euclid's algorithm to compute the GCD (Greatest Common Divisor) of two non-negative integer values.  Here is the recursive formula:\n",
    "\n",
    "$GCD(A,B) = \\left\\{ \n",
    "\\begin{array}{ll}\n",
    "A & if B=0\\\\\n",
    "GCD(B,A) & if B>A\\\\ \n",
    "GCD(B, B~mod~A) & otherwise\n",
    "\\end{array}\n",
    "\\right. $\n"
   ]
  },
  {
   "cell_type": "code",
   "execution_count": 60,
   "metadata": {},
   "outputs": [
    {
     "name": "stdout",
     "output_type": "stream",
     "text": [
      "3\n"
     ]
    }
   ],
   "source": [
    "def gcd(a,b):\n",
    "    if b == 0:\n",
    "        return a\n",
    "    elif b > a:\n",
    "        return gcd(b,a)\n",
    "    else:\n",
    "        return gcd(b,a%b)\n",
    "    \n",
    "print(gcd(12,27))"
   ]
  },
  {
   "cell_type": "markdown",
   "metadata": {},
   "source": [
    "## Part 4\n",
    "* Write a function `counter` that will take a list and a value k. Compute the number of values >, <, = to k. Return the result as a tuple.\n",
    "* Write a function `bounds` that will compute the min, max of a list of values. Return the result as a pair.\n",
    "* Write a function `median` that will compute the median of a list of numbers.  Sort the list.  If the length is odd, return the middle value.  If the length is even, return the average of the upper and lower medians.  Example:  The median of 1, 2, 3, 5, 11, 12 is the average of 3 and 5."
   ]
  },
  {
   "cell_type": "code",
   "execution_count": 70,
   "metadata": {},
   "outputs": [
    {
     "name": "stdout",
     "output_type": "stream",
     "text": [
      "4\n"
     ]
    },
    {
     "data": {
      "text/plain": [
       "29.0"
      ]
     },
     "execution_count": 70,
     "metadata": {},
     "output_type": "execute_result"
    }
   ],
   "source": [
    "def counter(inputList, k):\n",
    "    greaterVal = 0\n",
    "    lesserVal = 0\n",
    "    equalVal = 0\n",
    "    for i in inputList:\n",
    "        if i>k:\n",
    "            greaterVal += 1\n",
    "        elif i<k:\n",
    "            lesserVal += 1\n",
    "        else:\n",
    "            equalVal += 1\n",
    "    return (greaterVal, lesserVal, equalVal)\n",
    "\n",
    "#counter([1,2,3,4,6], 3)\n",
    "\n",
    "def bounds(inputList):\n",
    "    return (min(inputList), max(inputList))\n",
    "\n",
    "#bounds([1,2,45,78,2])\n",
    "\n",
    "def median(inputList):\n",
    "    inputList.sort()\n",
    "    length = len(inputList)\n",
    "    print(length)\n",
    "    if length%2 == 0:\n",
    "        return (inputList[int(length/2)]+inputList[int((length/2)-1)])/2\n",
    "    else:\n",
    "        return inputList[int((length-1)/2)]\n",
    "        \n",
    "        \n",
    "    \n",
    "median([12,3,46,67])"
   ]
  },
  {
   "cell_type": "markdown",
   "metadata": {},
   "source": [
    "## Part 5\n",
    "* Write a function `word_count` that takes in a string and will use a dictionary to count the number of times each word appears in the string. Use a dict to keep the counts for each word."
   ]
  },
  {
   "cell_type": "code",
   "execution_count": 20,
   "metadata": {},
   "outputs": [
    {
     "data": {
      "text/plain": [
       "{'hello': 1, 'good': 2, 'morning': 1, 'is': 1, 'everything': 1}"
      ]
     },
     "execution_count": 20,
     "metadata": {},
     "output_type": "execute_result"
    }
   ],
   "source": [
    "def word_count(inputString):\n",
    "    words = inputString.split()\n",
    "    result = {}\n",
    "    for word in words:\n",
    "        result[word] =  words.count(word)\n",
    "    \n",
    "    return result\n",
    "   \n",
    "word_count(\"hello good morning is everything good\")\n",
    "    "
   ]
  },
  {
   "cell_type": "markdown",
   "metadata": {},
   "source": [
    "## Part 6\n",
    "Do at least three calls on each function you created to verify the correct operation."
   ]
  },
  {
   "cell_type": "code",
   "execution_count": 72,
   "metadata": {},
   "outputs": [
    {
     "name": "stdout",
     "output_type": "stream",
     "text": [
      "120\n",
      "263130836933693530167218012160000000\n",
      "2.8952380952380956\n",
      "2.9760461760461765\n",
      "20.085536921517665\n",
      "20.085536923187668\n",
      "1096.5844652003686\n",
      "1096.6331584284585\n",
      "3\n",
      "23\n",
      "(3, 3, 1)\n",
      "(2, 5, 0)\n",
      "(1, 78)\n",
      "(5, 65)\n",
      "4\n",
      "29.0\n",
      "3\n",
      "45\n",
      "{'hello': 1, 'good': 2, 'morning': 1, 'is': 1, 'everything': 1}\n",
      "{'happy': 2, 'weekend': 1}\n"
     ]
    }
   ],
   "source": [
    "print(factorial(5))\n",
    "print(factorial(32))\n",
    "\n",
    "print(get_pi())\n",
    "print(get_pi(6))\n",
    "\n",
    "print(e_to_the_x(3,20))\n",
    "print(math.exp(3))\n",
    "\n",
    "print(e_to_the_x(7,20))\n",
    "print(math.exp(7))\n",
    "\n",
    "print(gcd(12,27))\n",
    "print(gcd(23,46))\n",
    "\n",
    "print(counter([1,3,5,8,2,9,8], 5))\n",
    "print(counter([12,31,53,28,22,19,18], 30))\n",
    "\n",
    "print(bounds([1,2,45,78,2]))\n",
    "print(bounds([21,32,5,8,65]))\n",
    "\n",
    "print(median([12,3,46,67]))\n",
    "print(median([22,45,67]))\n",
    "\n",
    "print(word_count(\"hello good morning is everything good\"))\n",
    "print(word_count(\"happy happy weekend\"))"
   ]
  },
  {
   "cell_type": "markdown",
   "metadata": {},
   "source": [
    "## Bonus\n",
    "* Go online and find a different infinite sequence (or product) that converges to pi and implement a function `get_pi_alt` that uses the sequence.\n",
    "\n",
    "* Create a markdown that uses latex (you can see examples of it surrounded by $ in this notebook. Show the sequence you used."
   ]
  },
  {
   "cell_type": "code",
   "execution_count": 81,
   "metadata": {},
   "outputs": [
    {
     "data": {
      "text/plain": [
       "3.141560822970433"
      ]
     },
     "execution_count": 81,
     "metadata": {},
     "output_type": "execute_result"
    }
   ],
   "source": [
    "def get_pi_alt(n=4):\n",
    "    result = 0\n",
    "    for i in range(1,n+1):\n",
    "        result = result + (1/(i*i))\n",
    "    \n",
    "    return math.sqrt(6*result)\n",
    "\n",
    "get_pi_alt(30000)"
   ]
  },
  {
   "cell_type": "markdown",
   "metadata": {},
   "source": [
    "$pi = \\sqrt{6[1/1^2 + 1/2^2 + 1/3^2 + 1/4^2 + ...]}$"
   ]
  },
  {
   "cell_type": "code",
   "execution_count": null,
   "metadata": {},
   "outputs": [],
   "source": []
  }
 ],
 "metadata": {
  "kernelspec": {
   "display_name": "Python 3 (Spyder)",
   "language": "python3",
   "name": "python3"
  },
  "language_info": {
   "codemirror_mode": {
    "name": "ipython",
    "version": 3
   },
   "file_extension": ".py",
   "mimetype": "text/x-python",
   "name": "python",
   "nbconvert_exporter": "python",
   "pygments_lexer": "ipython3",
   "version": "3.7.1"
  }
 },
 "nbformat": 4,
 "nbformat_minor": 2
}
