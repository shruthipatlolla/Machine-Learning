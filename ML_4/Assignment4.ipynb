{
 "cells": [
  {
   "cell_type": "markdown",
   "metadata": {},
   "source": [
    "# Assignment 4 - Working on features"
   ]
  },
  {
   "cell_type": "markdown",
   "metadata": {},
   "source": [
    "## Part 1 - Read your data frame."
   ]
  },
  {
   "cell_type": "code",
   "execution_count": 4,
   "metadata": {
    "scrolled": true
   },
   "outputs": [
    {
     "name": "stdout",
     "output_type": "stream",
     "text": [
      "Index(['Serial No.', 'GRE Score', 'TOEFL Score', 'University Rating', 'SOP',\n",
      "       'LOR ', 'CGPA', 'Research', 'Chance of Admit '],\n",
      "      dtype='object')\n"
     ]
    },
    {
     "data": {
      "text/html": [
       "<div>\n",
       "<style scoped>\n",
       "    .dataframe tbody tr th:only-of-type {\n",
       "        vertical-align: middle;\n",
       "    }\n",
       "\n",
       "    .dataframe tbody tr th {\n",
       "        vertical-align: top;\n",
       "    }\n",
       "\n",
       "    .dataframe thead th {\n",
       "        text-align: right;\n",
       "    }\n",
       "</style>\n",
       "<table border=\"1\" class=\"dataframe\">\n",
       "  <thead>\n",
       "    <tr style=\"text-align: right;\">\n",
       "      <th></th>\n",
       "      <th>Serial No.</th>\n",
       "      <th>GRE Score</th>\n",
       "      <th>TOEFL Score</th>\n",
       "      <th>University Rating</th>\n",
       "      <th>SOP</th>\n",
       "      <th>LOR</th>\n",
       "      <th>CGPA</th>\n",
       "      <th>Research</th>\n",
       "      <th>Chance of Admit</th>\n",
       "    </tr>\n",
       "  </thead>\n",
       "  <tbody>\n",
       "    <tr>\n",
       "      <th>0</th>\n",
       "      <td>1</td>\n",
       "      <td>337</td>\n",
       "      <td>118</td>\n",
       "      <td>4</td>\n",
       "      <td>4.5</td>\n",
       "      <td>4.5</td>\n",
       "      <td>9.65</td>\n",
       "      <td>1</td>\n",
       "      <td>0.92</td>\n",
       "    </tr>\n",
       "    <tr>\n",
       "      <th>1</th>\n",
       "      <td>2</td>\n",
       "      <td>324</td>\n",
       "      <td>107</td>\n",
       "      <td>4</td>\n",
       "      <td>4.0</td>\n",
       "      <td>4.5</td>\n",
       "      <td>8.87</td>\n",
       "      <td>1</td>\n",
       "      <td>0.76</td>\n",
       "    </tr>\n",
       "    <tr>\n",
       "      <th>2</th>\n",
       "      <td>3</td>\n",
       "      <td>316</td>\n",
       "      <td>104</td>\n",
       "      <td>3</td>\n",
       "      <td>3.0</td>\n",
       "      <td>3.5</td>\n",
       "      <td>8.00</td>\n",
       "      <td>1</td>\n",
       "      <td>0.72</td>\n",
       "    </tr>\n",
       "    <tr>\n",
       "      <th>3</th>\n",
       "      <td>4</td>\n",
       "      <td>322</td>\n",
       "      <td>110</td>\n",
       "      <td>3</td>\n",
       "      <td>3.5</td>\n",
       "      <td>2.5</td>\n",
       "      <td>8.67</td>\n",
       "      <td>1</td>\n",
       "      <td>0.80</td>\n",
       "    </tr>\n",
       "    <tr>\n",
       "      <th>4</th>\n",
       "      <td>5</td>\n",
       "      <td>314</td>\n",
       "      <td>103</td>\n",
       "      <td>2</td>\n",
       "      <td>2.0</td>\n",
       "      <td>3.0</td>\n",
       "      <td>8.21</td>\n",
       "      <td>0</td>\n",
       "      <td>0.65</td>\n",
       "    </tr>\n",
       "  </tbody>\n",
       "</table>\n",
       "</div>"
      ],
      "text/plain": [
       "   Serial No.  GRE Score        ...         Research  Chance of Admit \n",
       "0           1        337        ...                1              0.92\n",
       "1           2        324        ...                1              0.76\n",
       "2           3        316        ...                1              0.72\n",
       "3           4        322        ...                1              0.80\n",
       "4           5        314        ...                0              0.65\n",
       "\n",
       "[5 rows x 9 columns]"
      ]
     },
     "execution_count": 4,
     "metadata": {},
     "output_type": "execute_result"
    }
   ],
   "source": [
    "import pandas as pd\n",
    "data_frame = pd.read_csv(\"Admission_Predict.csv\")\n",
    "print(data_frame.keys())\n",
    "data_frame.head(n=5)"
   ]
  },
  {
   "cell_type": "markdown",
   "metadata": {},
   "source": [
    "## Part 2 - Create a new feature.\n",
    "Pick at least two features from your data set and create a new feature based on them.  In the notes describe why you chose the features and how you are combining them."
   ]
  },
  {
   "cell_type": "markdown",
   "metadata": {},
   "source": [
    "### _Notes_\n",
    "(Your notes here)\n",
    "I have choosen to combine GRE Score and TOFEL score and creating a new feature called score level based on the GRE score and TOFEL score"
   ]
  },
  {
   "cell_type": "code",
   "execution_count": 6,
   "metadata": {},
   "outputs": [],
   "source": [
    "# Your code here\n",
    "def score_level(gre, tofel):\n",
    "  if (310 <= gre <= 340) & (94 <= tofel <= 120):\n",
    "      return 1   #High\n",
    "  if (285 <= gre <= 309) & (94 <= tofel <= 120):\n",
    "      return 2   #Intermediate\n",
    "  else: \n",
    "      return 3 #low\n",
    "values = map(score_level, data_frame[\"GRE Score\"], data_frame[\"TOEFL Score\"])\n",
    "data_frame[\"Score_level\"] = list(values)"
   ]
  },
  {
   "cell_type": "markdown",
   "metadata": {},
   "source": [
    "## Part 3 - Split the data frame\n",
    "\n",
    "Use the train_test_split() function to split the data set into two equal pieces."
   ]
  },
  {
   "cell_type": "code",
   "execution_count": 7,
   "metadata": {
    "scrolled": true
   },
   "outputs": [
    {
     "name": "stdout",
     "output_type": "stream",
     "text": [
      "200\n",
      "200\n"
     ]
    }
   ],
   "source": [
    "# Your code here\n",
    "from sklearn.model_selection import train_test_split\n",
    "train_set, test_set = train_test_split(data_frame, test_size=0.5,\n",
    "random_state=123)\n",
    "print(len(train_set))\n",
    "print(len(test_set))"
   ]
  },
  {
   "cell_type": "markdown",
   "metadata": {},
   "source": [
    "## Part 4 - Pick a feature to create categories for\n",
    "1. Why did you pick the feature?\n",
    "2. Describe how you will create the groups.\n",
    "3. What is your reason for the groupings?\n",
    "4. Are any of your categories small in size?"
   ]
  },
  {
   "cell_type": "markdown",
   "metadata": {},
   "source": [
    "### _Notes_\n",
    "(Your notes here!)\n",
    "I have choose the new feature Score_level to create the categories.\n",
    "1. Beacuse with this feature i can filter the students into different ctegories based on their exam scores\n",
    "2. I can create a group using a function that will map onto the existing feature.\n",
    "3. The reason for this groupings is to differentiate the different level of students.\n",
    "4. Yes , two of my categories are small in size.\n",
    "\n"
   ]
  },
  {
   "cell_type": "markdown",
   "metadata": {},
   "source": [
    "## Part 5 - Create the category groups"
   ]
  },
  {
   "cell_type": "code",
   "execution_count": 8,
   "metadata": {},
   "outputs": [],
   "source": [
    "# Your code here\n",
    "def score(score):\n",
    "  if score == 1:\n",
    "      return \"High\"\n",
    "  if score == 2:\n",
    "      return \"Intermediate\" \n",
    "  else: \n",
    "      return \"Low\"\n",
    "values = data_frame['Score_level'].map(score)\n",
    "data_frame['Score_group'] = values"
   ]
  },
  {
   "cell_type": "markdown",
   "metadata": {},
   "source": [
    "## Part 6 - Do a stratified split\n",
    "Use the category group feature you created to perform a stratified split on the data."
   ]
  },
  {
   "cell_type": "code",
   "execution_count": 9,
   "metadata": {},
   "outputs": [],
   "source": [
    "# Your code here\n",
    "from sklearn.model_selection import StratifiedShuffleSplit\n",
    "splitter = StratifiedShuffleSplit(n_splits = 1, test_size=0.5, random_state=123)\n",
    "for train_indices, test_indices in splitter.split(data_frame, data_frame[\"Score_group\"]):\n",
    "    train_set = data_frame.iloc[train_indices]\n",
    "    test_set = data_frame.iloc[test_indices]"
   ]
  },
  {
   "cell_type": "markdown",
   "metadata": {},
   "source": [
    "## Part 7 - Look at the training and test sets\n",
    "Use info() and value_counts() on the training and test sets to verify that the split was successfl. "
   ]
  },
  {
   "cell_type": "code",
   "execution_count": 10,
   "metadata": {
    "scrolled": false
   },
   "outputs": [
    {
     "name": "stdout",
     "output_type": "stream",
     "text": [
      "<class 'pandas.core.frame.DataFrame'>\n",
      "Int64Index: 200 entries, 289 to 122\n",
      "Data columns (total 11 columns):\n",
      "Serial No.           200 non-null int64\n",
      "GRE Score            200 non-null int64\n",
      "TOEFL Score          200 non-null int64\n",
      "University Rating    200 non-null int64\n",
      "SOP                  200 non-null float64\n",
      "LOR                  200 non-null float64\n",
      "CGPA                 200 non-null float64\n",
      "Research             200 non-null int64\n",
      "Chance of Admit      200 non-null float64\n",
      "Score_level          200 non-null int64\n",
      "Score_group          200 non-null object\n",
      "dtypes: float64(4), int64(6), object(1)\n",
      "memory usage: 18.8+ KB\n",
      "<class 'pandas.core.frame.DataFrame'>\n",
      "Int64Index: 200 entries, 124 to 242\n",
      "Data columns (total 11 columns):\n",
      "Serial No.           200 non-null int64\n",
      "GRE Score            200 non-null int64\n",
      "TOEFL Score          200 non-null int64\n",
      "University Rating    200 non-null int64\n",
      "SOP                  200 non-null float64\n",
      "LOR                  200 non-null float64\n",
      "CGPA                 200 non-null float64\n",
      "Research             200 non-null int64\n",
      "Chance of Admit      200 non-null float64\n",
      "Score_level          200 non-null int64\n",
      "Score_group          200 non-null object\n",
      "dtypes: float64(4), int64(6), object(1)\n",
      "memory usage: 18.8+ KB\n"
     ]
    },
    {
     "data": {
      "text/plain": [
       "High            147\n",
       "Intermediate     52\n",
       "Low               1\n",
       "Name: Score_group, dtype: int64"
      ]
     },
     "execution_count": 10,
     "metadata": {},
     "output_type": "execute_result"
    }
   ],
   "source": [
    "# Your code here\n",
    "train_set.info()\n",
    "train_set[\"Score_group\"].value_counts()\n",
    "\n",
    "test_set.info()\n",
    "test_set[\"Score_group\"].value_counts()"
   ]
  },
  {
   "cell_type": "markdown",
   "metadata": {},
   "source": [
    "# Bonus\n"
   ]
  },
  {
   "cell_type": "markdown",
   "metadata": {},
   "source": [
    "1. Experiment with the n_splits for the StratifiedShuffleSplit.  Describe what you observe.\n",
    "2. Experiment with the random_state for the StratifiedShuffleSplit. Describe what you observe."
   ]
  },
  {
   "cell_type": "code",
   "execution_count": 15,
   "metadata": {},
   "outputs": [
    {
     "name": "stdout",
     "output_type": "stream",
     "text": [
      "320\n",
      "80\n"
     ]
    }
   ],
   "source": [
    "splitter = StratifiedShuffleSplit(n_splits = 1, test_size=0.2, random_state=320)\n",
    "for train_indices, test_indices in splitter.split(data_frame, data_frame[\"Score_group\"]):\n",
    "    train_set = data_frame.iloc[train_indices]\n",
    "    test_set = data_frame.iloc[test_indices]\n",
    "\n",
    "\n",
    "print(len(train_set))\n",
    "print(len(test_set))"
   ]
  },
  {
   "cell_type": "markdown",
   "metadata": {},
   "source": [
    "when i tried to test_size with 0.2 the data split into two sets - one contains 320 and other 80\n",
    "when test_size = 05. - both data sets contains qual number of records each 200.\n",
    "\n",
    "I tried diffrenet values for random_state also but did not find any differences in the split."
   ]
  }
 ],
 "metadata": {
  "kernelspec": {
   "display_name": "Python 3 (Spyder)",
   "language": "python3",
   "name": "python3"
  },
  "language_info": {
   "codemirror_mode": {
    "name": "ipython",
    "version": 3
   },
   "file_extension": ".py",
   "mimetype": "text/x-python",
   "name": "python",
   "nbconvert_exporter": "python",
   "pygments_lexer": "ipython3",
   "version": "3.7.1"
  }
 },
 "nbformat": 4,
 "nbformat_minor": 2
}
